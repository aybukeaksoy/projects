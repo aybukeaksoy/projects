{
  "cells": [
    {
      "cell_type": "markdown",
      "metadata": {
        "id": "TIi6vhnurJA-"
      },
      "source": [
        "# THE2 - CENG403 Spring 2024\n",
        "\n",
        "This document contains the backbone structure for the take-home exam. You should complete this template for your solution."
      ]
    },
    {
      "cell_type": "markdown",
      "metadata": {
        "id": "1DwugJ84rTRM"
      },
      "source": [
        "# 1 The Gergen Library [THE1 Solution]\n",
        "\n",
        "This section presents the code for solving THE1. You can modify any part as desired. The implementation of `rastgele_gercek`, `rastgele_dogal`, and `gergen` classes, as well as the necessary operations in the `Operation` class, are all provided."
      ]
    },
    {
      "cell_type": "markdown",
      "metadata": {
        "id": "yXa7Mn78KYNe"
      },
      "source": [
        "## 1.1 Implementation for `rastgele_gercek` and `rastgele_dogal`\n",
        "\n",
        "Uniform distribution is the only option available for `rastgele_dogal`. However, for `rastgele_gercek`, you can choose between uniform and gaussian distributions."
      ]
    },
    {
      "cell_type": "code",
      "execution_count": null,
      "metadata": {
        "id": "kI43OQKUTmrV"
      },
      "outputs": [],
      "source": [
        "def cekirdek(sayi: int):\n",
        "    #Sets the seed for random number generation\n",
        "    random.seed(sayi)\n",
        "\n",
        "def rastgele_dogal(boyut, aralik=None, dagilim='uniform'):\n",
        "    \"\"\"\n",
        "    Generates data of specified dimensions with random integer values and returns a gergen object.\n",
        "\n",
        "    Parameters:\n",
        "    boyut (tuple): Shape of the desired data.\n",
        "    aralik (tuple, optional): (min, max) specifying the range of random values. Defaults to None, which implies a default range.\n",
        "    dagilim (string, optional): Distribution of random values ('uniform' or other types). Defaults to 'uniform'.\n",
        "\n",
        "    Returns:\n",
        "    gergen: A new gergen object with random integer values.\n",
        "    \"\"\"\n",
        "\n",
        "    # Set a default range if aralik is not provided\n",
        "    if aralik is None:\n",
        "        aralik = (0, 10)\n",
        "\n",
        "    def generate_random_data(shape):\n",
        "        if len(shape) == 1:\n",
        "            return [random_value(aralik, dagilim) for _ in range(shape[0])]\n",
        "        else:\n",
        "            return [generate_random_data(shape[1:]) for _ in range(shape[0])]\n",
        "\n",
        "    def random_value(aralik, dagilim):\n",
        "        if dagilim == 'uniform':\n",
        "            return random.randint(*aralik)\n",
        "        else:\n",
        "            raise ValueError(f\"Unsupported distribution: {dagilim}\")\n",
        "\n",
        "    data = generate_random_data(boyut)\n",
        "    return gergen(data)\n",
        "\n",
        "def rastgele_gercek(boyut, aralik=(0.0, 1.0), dagilim='uniform'):\n",
        "    \"\"\"\n",
        "    Generates a gergen of specified dimensions with random floating-point values.\n",
        "\n",
        "    Parameters:\n",
        "    boyut (tuple): Shape of the desired gergen.\n",
        "    aralik (tuple, optional): (min, max) specifying the range of random values. Defaults to (0.0, 1.0) for uniform distribution.\n",
        "    dagilim (string, optional): Distribution of random value (e.g., 'uniform', 'gaussian'). Defaults to 'uniform'.\n",
        "\n",
        "    Returns:\n",
        "    gergen: A new gergen object with random floating-point values.\n",
        "    \"\"\"\n",
        "    def generate_random_data(shape):\n",
        "        if len(shape) == 1:\n",
        "            return [random_value(aralik, dagilim) for _ in range(shape[0])]\n",
        "        else:\n",
        "            return [generate_random_data(shape[1:]) for _ in range(shape[0])]\n",
        "\n",
        "    def random_value(aralik, dagilim):\n",
        "        if dagilim == 'uniform':\n",
        "            return random.uniform(*aralik)\n",
        "        elif dagilim == 'gaussian':\n",
        "            mean, std_dev = aralik\n",
        "            return random.gauss(mean, std_dev)\n",
        "        else:\n",
        "            raise ValueError(f\"Unsupported distribution: {dagilim}\")\n",
        "\n",
        "    data = generate_random_data(boyut)\n",
        "    return gergen(data)\n",
        "\n"
      ]
    },
    {
      "cell_type": "code",
      "execution_count": null,
      "metadata": {
        "id": "nsyaG2xnv1or"
      },
      "outputs": [],
      "source": [
        "import random\n",
        "import math\n",
        "from typing import Union\n",
        "import matplotlib.pyplot as plt"
      ]
    },
    {
      "cell_type": "markdown",
      "metadata": {
        "id": "zoqJr35ILDwi"
      },
      "source": [
        "## 1.2 Operation Class Definition\n",
        "\n",
        "You can find the latest version of the Operation class here."
      ]
    },
    {
      "cell_type": "code",
      "execution_count": null,
      "metadata": {
        "id": "ZmQuuHjnwjWa"
      },
      "outputs": [],
      "source": [
        "class Operation:\n",
        "    def __call__(self, *operands, **kwargs):\n",
        "        \"\"\"\n",
        "        Modified to accept keyword arguments as well.\n",
        "        \"\"\"\n",
        "        self.operands = operands\n",
        "        self.kwargs = kwargs  # Store keyword arguments separately\n",
        "        self.outputs = None\n",
        "        return self.ileri(*operands, **kwargs)\n",
        "\n",
        "    def ileri(self, *operands, **kwargs):\n",
        "        \"\"\"\n",
        "        Defines the forward pass of the operation.\n",
        "        Must be implemented by subclasses to perform the actual operation.\n",
        "\n",
        "        Parameters:\n",
        "            *operands: Variable length operand list.\n",
        "            **kwargs: Variable length keyword argument list.\n",
        "\n",
        "        Raises:\n",
        "            NotImplementedError: If not overridden in a subclass.\n",
        "        \"\"\"\n",
        "        raise NotImplementedError\n",
        "\n",
        "    def geri(self, grad_input):\n",
        "        \"\"\"\n",
        "        Defines the backward pass of the operation.\n",
        "        Must be implemented by subclasses to compute the gradients.\n",
        "\n",
        "        Parameters:\n",
        "            grad_input: The gradient of the loss w.r.t. the output of this operation.\n",
        "\n",
        "        \"\"\"\n",
        "        raise NotImplementedError\n",
        "\n"
      ]
    },
    {
      "cell_type": "markdown",
      "metadata": {
        "id": "kcmII57SLU4_"
      },
      "source": [
        "## 1.3 Implemented Operations\n",
        "The section contains all implementations from THE1. You can customize any part as you like, and you need to complete the `TODO` sections.\n"
      ]
    },
    {
      "cell_type": "markdown",
      "metadata": {
        "id": "rpWNwPiIMjTw"
      },
      "source": [
        "### 1.3.1 Add"
      ]
    },
    {
      "cell_type": "code",
      "execution_count": null,
      "metadata": {
        "id": "Ve5bAhtp7RbR"
      },
      "outputs": [],
      "source": [
        "class Add(Operation):\n",
        "    def ileri(self, a, b):\n",
        "        \"\"\"\n",
        "        Adds two gergen objects or a gergen object and a scalar.\n",
        "        You can modify this function.\n",
        "        \"\"\"\n",
        "        if isinstance(a, gergen) and isinstance(b, gergen):\n",
        "            self.operands = [a, b]\n",
        "            result = gergen(self.add_gergen(a.duzlestir().listeye(), b.duzlestir().listeye()), operation=self)\n",
        "            result.boyutlandir(a.boyut())\n",
        "        elif isinstance(a, gergen) and isinstance(b, (list)):\n",
        "            self.operands = [a]\n",
        "            result = gergen(self.add_list(a.listeye(), b), operation=self)\n",
        "        elif isinstance(b, gergen) and isinstance(a, (list)):\n",
        "            self.operands = [b]\n",
        "            result = gergen(self.add_list(b.listeye(), a), operation=self)\n",
        "        elif isinstance(a, gergen) and isinstance(b, (int, float)):\n",
        "            self.operands = [a]\n",
        "            result = gergen(self.add_scalar(a.listeye(), b), operation=self)\n",
        "        elif isinstance(b, gergen) and isinstance(a, (int, float)):\n",
        "            self.operands = [b]\n",
        "            result = gergen(self.add_scalar(b.listeye(), a), operation=self)\n",
        "        else:\n",
        "            raise ValueError(\"Add operation requires at least one gergen operand.\")\n",
        "\n",
        "        return result\n",
        "\n",
        "    def add_scalar(self, a, scalar):\n",
        "        if isinstance(a, list):\n",
        "            return [self.add_scalar(elem, scalar) for elem in a]\n",
        "        else:\n",
        "            return a + scalar\n",
        "\n",
        "    def add_gergen(self, a, b):\n",
        "        # Check if 'a' is a list\n",
        "        if isinstance(a, list):\n",
        "            # Check if 'b' is a list\n",
        "            if isinstance(b, list):\n",
        "                if len(a) != len(b):\n",
        "                    raise ValueError(\"Dimensions of gergen objects do not match for addition.\")\n",
        "                return [a[i] + b[i] for i in range(len(a))]\n",
        "            # If 'a' is a list and 'b' is a scalar\n",
        "            elif not isinstance(b, list):\n",
        "                return [item + b for item in a]\n",
        "\n",
        "        # If 'a' is a scalar and 'b' is a list\n",
        "        elif not isinstance(a, list) and isinstance(b, list):\n",
        "            return [a + item for item in b]\n",
        "        # Direct addition for scalars, or fallback error for unsupported types\n",
        "        elif not isinstance(a, list) and not isinstance(b, list):\n",
        "            return a + b\n",
        "\n",
        "    def add_list(self, a, b):\n",
        "        # Check if 'a' is a list\n",
        "        if isinstance(a, list) and isinstance(b, list):\n",
        "            return [self.add_list(elem_a, elem_b) for elem_a, elem_b in zip(a, b)]\n",
        "        # If 'a' is list and b is scalar\n",
        "        elif isinstance(a, list) and not isinstance(b, list):\n",
        "            return [self.add_list(elem_a, b) for elem_a in a]\n",
        "        elif not isinstance(a, list) and isinstance(b, list):\n",
        "            return [self.add_list(a, elem_b) for elem_b in b]\n",
        "        elif not isinstance(a, list) and not isinstance(b, list):\n",
        "            return a + b\n",
        "\n",
        "    def geri(self, grad_input):\n",
        "        '''\n",
        "        TODO: Implement the gradient computation for the Add operation.\n",
        "        '''\n",
        "        return [grad_input,grad_input]\n"
      ]
    },
    {
      "cell_type": "markdown",
      "metadata": {
        "id": "db3krJ5cMmOv"
      },
      "source": [
        "### 1.3.2 Sub"
      ]
    },
    {
      "cell_type": "code",
      "execution_count": null,
      "metadata": {
        "id": "nKq0Cvfl7y3a"
      },
      "outputs": [],
      "source": [
        "class Sub(Operation):\n",
        "    \"\"\"\n",
        "    Subtracts two gergen objects or a gergen object and a scalar.\n",
        "    You can modify this function.\n",
        "    \"\"\"\n",
        "    def ileri(self, a, b):\n",
        "        if isinstance(a, gergen) and isinstance(b, gergen):\n",
        "            self.a, self.b = a, b\n",
        "            self.operands = [a, b]\n",
        "            result = gergen(self.subtract_gergen(a.duzlestir().listeye(), b.duzlestir().listeye()), operation=self)\n",
        "            result.boyutlandir(a.boyut())\n",
        "        elif isinstance(a, gergen) and isinstance(b, (list)):\n",
        "            self.a = a\n",
        "            self.operands = [a]\n",
        "            result = gergen(self.subtract_list(a.listeye(), b), operation=self)\n",
        "        elif isinstance(b, gergen) and isinstance(a, (list)):\n",
        "            self.b = b\n",
        "            self.operands = [b]\n",
        "            result = gergen(self.subtract_list(a, b.listeye()), operation=self)\n",
        "        elif isinstance(a, gergen) and isinstance(b, (int, float)):\n",
        "            self.b = b\n",
        "            self.operands = [a]\n",
        "            result = gergen(self.subtract_scalar(a.listeye(), b), operation=self)\n",
        "        elif isinstance(b, gergen) and isinstance(a, (int, float)):\n",
        "            self.b = b\n",
        "            self.operands = [b]\n",
        "            result = gergen(self.subtract_scalar(b.listeye(), a), operation=self)\n",
        "        else:\n",
        "            raise ValueError(\"Sub operation requires at least one gergen operand.\")\n",
        "        return result\n",
        "\n",
        "    def subtract_scalar(self, a, scalar):\n",
        "        if isinstance(a, list):\n",
        "            return [self.subtract_scalar(elem, scalar) for elem in a]\n",
        "        else:\n",
        "            return a - scalar\n",
        "\n",
        "    def subtract_list(self, a, b):\n",
        "        # Check if 'a' is a list\n",
        "        if isinstance(a, list) and isinstance(b, list):\n",
        "            return [self.subtract_list(elem_a, elem_b) for elem_a, elem_b in zip(a, b)]\n",
        "        # If 'a' is list and b is scalar\n",
        "        elif isinstance(a,list) and not isinstance(b, list):\n",
        "            return [self.subtract_list(elem_a, b) for elem_a in a]\n",
        "        elif not isinstance(a,list) and isinstance(b, list):\n",
        "            return [self.subtract_list(a, elem_b) for elem_b in b]\n",
        "        elif not isinstance(a, list) and not isinstance(b, list):\n",
        "            return a - b\n",
        "\n",
        "    def subtract_gergen(self, a, b):\n",
        "        # Check if 'a' is a list\n",
        "        if isinstance(a, list):\n",
        "            # Check if 'b' is a list\n",
        "            if isinstance(b, list):\n",
        "                if len(a) != len(b):\n",
        "                    raise ValueError(\"Dimensions of gergen objects do not match for subtraction.\")\n",
        "                return [a[i] - b[i] for i in range(len(a))]\n",
        "            # If 'a' is a list and 'b' is a scalar\n",
        "            elif not isinstance(b, list):\n",
        "                return [item - b for item in a]\n",
        "\n",
        "        # If 'a' is a scalar and 'b' is a list\n",
        "        elif not isinstance(a, list) and isinstance(b, list):\n",
        "            return [a - item for item in b]\n",
        "        # Direct subtraction for scalars, or fallback error for unsupported types\n",
        "        elif not isinstance(a, list) and not isinstance(b, list):\n",
        "            return a - b\n",
        "\n",
        "    def geri(self, grad_input):\n",
        "        '''\n",
        "        TODO: Implement the gradient computation for the Sub operation.\n",
        "        '''\n",
        "        pass"
      ]
    },
    {
      "cell_type": "markdown",
      "metadata": {
        "id": "yHPjWN-2NsjH"
      },
      "source": [
        "### 1.3.3 TrueDiv"
      ]
    },
    {
      "cell_type": "code",
      "execution_count": null,
      "metadata": {
        "id": "ZhFVRBbP83oC"
      },
      "outputs": [],
      "source": [
        "class TrueDiv(Operation):\n",
        "    \"\"\"\n",
        "    Divides two gergen objects or a gergen object and a scalar.\n",
        "    You can modify this function.\n",
        "    \"\"\"\n",
        "    def ileri(self, a, b):\n",
        "        if isinstance(a, gergen) and isinstance(b, gergen):\n",
        "            self.a, self.b = a, b\n",
        "            self.operands = [a, b]\n",
        "            result = gergen(self.divide_elements(a.duzlestir().listeye(), b.duzlestir().listeye()), operation=self)\n",
        "            result.boyutlandir(a.boyut())\n",
        "        elif isinstance(a, gergen) and isinstance(b, (int, float)):\n",
        "            self.a = a\n",
        "            self.operands = [a]\n",
        "            result = gergen(self.divide_scalar(a.listeye(), b), operation=self)\n",
        "\n",
        "        elif isinstance(b, gergen) and isinstance(a, (int, float)):\n",
        "            # Division of a scalar by a gergen object is not typically defined,\n",
        "            # but you can implement it based on your requirements.\n",
        "            raise NotImplementedError(\"Division of a scalar by a gergen object is not implemented.\")\n",
        "        else:\n",
        "            raise ValueError(\"TrueDiv operation requires at least one gergen operand.\")\n",
        "\n",
        "        return result\n",
        "\n",
        "    def divide_scalar(self, a, scalar):\n",
        "        if isinstance(a, list):\n",
        "            return [self.divide_scalar(elem, scalar) for elem in a]\n",
        "        else:\n",
        "            if scalar == 0:\n",
        "                raise ZeroDivisionError(\"Division by zero.\")\n",
        "            return a / scalar\n",
        "\n",
        "    def divide_elements(self, a, b):\n",
        "        # Both a and b are non-lists (scalars), perform direct division\n",
        "        if not isinstance(a, list) and not isinstance(b, list):\n",
        "            if b == 0:\n",
        "                raise ZeroDivisionError(\"Division by zero.\")\n",
        "            return a / b\n",
        "        # Both a and b are lists, perform element-wise division\n",
        "        elif isinstance(a, list) and isinstance(b, list):\n",
        "            if len(a) != len(b):\n",
        "                raise ValueError(\"Dimensions of gergen objects do not match for division.\")\n",
        "            return [self.divide_elements(elem_a, elem_b) for elem_a, elem_b in zip(a, b)]\n",
        "        # One of a or b is a list and the other is a scalar, divide each element of the list by the scalar\n",
        "        elif isinstance(a, list):\n",
        "            return [self.divide_elements(elem, b) for elem in a]\n",
        "        else:\n",
        "            raise NotImplementedError(\"Division of scalar by a list is not typically defined.\")\n",
        "\n",
        "    def geri(self, grad_input):\n",
        "        '''\n",
        "        TODO (Optional): Implement the gradient computation for the TrueDiv operation.\n",
        "        '''\n",
        "        pass\n",
        "\n"
      ]
    },
    {
      "cell_type": "markdown",
      "metadata": {
        "id": "OIAye1-nNvW7"
      },
      "source": [
        "###1.3.4 Mul"
      ]
    },
    {
      "cell_type": "code",
      "execution_count": null,
      "metadata": {
        "id": "4JKZjx6v_EzM"
      },
      "outputs": [],
      "source": [
        "class Mul(Operation):\n",
        "    \"\"\"\n",
        "    Multiplies two gergen objects or a gergen object and a scalar.\n",
        "    You can modify this function.\n",
        "    \"\"\"\n",
        "    def ileri(self, a, b):\n",
        "\n",
        "        if isinstance(a, gergen) and isinstance(b, gergen):\n",
        "            self.a, self.b = a, b\n",
        "            self.operands = [a, b]\n",
        "            # a is a scalar gergen\n",
        "            if a.uzunluk() == 1:\n",
        "                result = gergen(self.multiply_scalar(b.listeye(),a.listeye()), operation= self)\n",
        "            # b is a scalar gergen\n",
        "            elif b.uzunluk() == 1:\n",
        "                result = gergen(self.multiply_scalar(a.listeye(),b.listeye()), operation = self)\n",
        "            else:\n",
        "                result = gergen(self.multiply_elements(a.duzlestir().listeye(), b.duzlestir().listeye()), operation=self)\n",
        "                result.boyutlandir(a.boyut())\n",
        "        elif isinstance(a, gergen) and isinstance(b, (int, float)):\n",
        "            self.a = a\n",
        "            self.b = b\n",
        "            self.operands = [a]\n",
        "            result = gergen(self.multiply_scalar(a.listeye(), b), operation=self)\n",
        "        elif isinstance(b, gergen) and isinstance(a, (int, float)):\n",
        "            self.b = b\n",
        "            self.b = a\n",
        "            self.operands = [b]\n",
        "            result = gergen(self.multiply_scalar(b.listeye(), a), operation=self)\n",
        "        else:\n",
        "            raise ValueError(\"Mul operation requires at least one gergen operand.\")\n",
        "\n",
        "        return result\n",
        "\n",
        "    def multiply_scalar(self, a, scalar):\n",
        "        if isinstance(a, list):\n",
        "            return [self.multiply_scalar(elem, scalar) for elem in a]\n",
        "        else:\n",
        "            return a * scalar\n",
        "\n",
        "    def multiply_elements(self, a, b):\n",
        "        # Both a and b are non-lists (scalars), perform direct multiplication\n",
        "        if not isinstance(a, list) and not isinstance(b, list):\n",
        "            return a * b\n",
        "        # Both a and b are lists, perform element-wise multiplication\n",
        "        elif isinstance(a, list) and isinstance(b, list):\n",
        "            if len(a) != len(b):\n",
        "                raise ValueError(\"Dimensions of gergen objects do not match for multiplication.\")\n",
        "            return [self.multiply_elements(elem_a, elem_b) for elem_a, elem_b in zip(a, b)]\n",
        "        # One of a or b is a list and the other is a scalar, multiply each element of the list by the scalar\n",
        "        elif isinstance(a, list):\n",
        "            return [self.multiply_elements(elem, b) for elem in a]\n",
        "        else:\n",
        "            return [self.multiply_elements(a, elem) for elem in b]\n",
        "\n",
        "    def geri(self, grad_input):\n",
        "        '''\n",
        "        TODO: Implement the gradient computation for the Mul operation.\n",
        "        '''\n",
        "        pass"
      ]
    },
    {
      "cell_type": "markdown",
      "metadata": {
        "id": "p0MM37TQOAoj"
      },
      "source": [
        "### 1.3.5 Us"
      ]
    },
    {
      "cell_type": "code",
      "execution_count": null,
      "metadata": {
        "id": "aXS2PFPtBKZ2"
      },
      "outputs": [],
      "source": [
        "class Us(Operation):\n",
        "    \"\"\"\n",
        "    Power operation.\n",
        "    You can modify this function.\n",
        "    \"\"\"\n",
        "    def ileri(self, a, n):\n",
        "        self.a = a\n",
        "        self.n = n\n",
        "        self.operands = [a]\n",
        "        result = gergen(self.power_elements(a.veri, n), operation=self)\n",
        "        return result\n",
        "\n",
        "    def power_elements(self, a, n):\n",
        "\n",
        "        if isinstance(a, list):\n",
        "            return [self.power_elements(elem, n) for elem in a]\n",
        "        else:\n",
        "            return a ** n\n",
        "    def multiply_elements(self, a, b):\n",
        "        # Both a and b are non-lists (scalars), perform direct multiplication\n",
        "        if not isinstance(a, list) and not isinstance(b, list):\n",
        "            return a * b\n",
        "        # Both a and b are lists, perform element-wise multiplication\n",
        "        elif isinstance(a, list) and isinstance(b, list):\n",
        "            if len(a) != len(b):\n",
        "                raise ValueError(\"Dimensions of gergen objects do not match for multiplication.\")\n",
        "            return [self.multiply_elements(elem_a, elem_b) for elem_a, elem_b in zip(a, b)]\n",
        "        # One of a or b is a list and the other is a scalar, multiply each element of the list by the scalar\n",
        "        elif isinstance(a, list):\n",
        "            return [self.multiply_elements(elem, b) for elem in a]\n",
        "        else:\n",
        "            return [self.multiply_elements(a, elem) for elem in b]\n",
        "\n",
        "    def geri(self, grad_input):\n",
        "        '''\n",
        "        TODO: Implement the gradient computation for the Power operation.\n",
        "        '''\n",
        "        pass\n"
      ]
    },
    {
      "cell_type": "markdown",
      "metadata": {
        "id": "pzFMcdJtOHzg"
      },
      "source": [
        "### 1.3.6 Log10"
      ]
    },
    {
      "cell_type": "code",
      "execution_count": null,
      "metadata": {
        "id": "_zQWrw_zFHs3"
      },
      "outputs": [],
      "source": [
        "class Log10(Operation):\n",
        "    \"\"\"\n",
        "    Log10 operation\n",
        "    You can modify this function.\n",
        "    \"\"\"\n",
        "    def ileri(self, a):\n",
        "        self.a = a\n",
        "        self.operands = [a]\n",
        "        # Recursively check for non-positive values in the nested list structure\n",
        "        if self.contains_non_positive(self.a.veri):\n",
        "            raise ValueError(\"Logarithm undefined for non-positive values.\")\n",
        "        result = gergen(self.log_elements(a.veri), operation=self)\n",
        "        return result\n",
        "\n",
        "    def log_elements(self, a):\n",
        "        # Recursively apply the base 10 logarithm to each element\n",
        "        if isinstance(a, list):\n",
        "            return [self.log_elements(elem) for elem in a]\n",
        "        else:\n",
        "            return math.log10(a)\n",
        "\n",
        "    def contains_non_positive(self, a):\n",
        "        # Recursively check for non-positive values and flatten the results\n",
        "        def check_and_flatten(a):\n",
        "            flag = False\n",
        "            if isinstance(a, list):\n",
        "                # Use a generator expression to recursively check each element and flatten the result\n",
        "                for ele in a:\n",
        "                    flag = check_and_flatten(ele)\n",
        "            else:\n",
        "                if a <=0:\n",
        "                    return True\n",
        "            return flag\n",
        "        # Use 'any' on a flattened generator of boolean values\n",
        "        return check_and_flatten(a)\n",
        "    def multiply_elements(self, a, scalar):\n",
        "        # Recursively multiply each element by the scalar\n",
        "        if isinstance(a, list):\n",
        "            return [self.multiply_elements(elem, scalar) for elem in a]\n",
        "        else:\n",
        "            return a * scalar\n",
        "\n",
        "    def divide_elements(self, grad_output, b):\n",
        "        # Recursively divide grad_output by b, assuming they have the same structure\n",
        "        if isinstance(b, list):\n",
        "            return [self.divide_elements(elem_grad, elem_b) for elem_grad, elem_b in zip(grad_output, b)]\n",
        "        else:\n",
        "            return grad_output / b\n",
        "\n",
        "    def geri(self, grad_input):\n",
        "        '''\n",
        "        TODO (Optional): Implement the gradient computation for the Log10 operation.\n",
        "        '''\n",
        "        pass\n",
        "\n"
      ]
    },
    {
      "cell_type": "markdown",
      "metadata": {
        "id": "Zaw1gxIGOVT9"
      },
      "source": [
        "### 1.3.7 Ln"
      ]
    },
    {
      "cell_type": "code",
      "execution_count": null,
      "metadata": {
        "id": "sUo415Lo7q07"
      },
      "outputs": [],
      "source": [
        "class Ln(Operation):\n",
        "    def ileri(self, a):\n",
        "        \"\"\"\n",
        "        Implements the forward pass for the Ln operation.\n",
        "        You can modify this function.\n",
        "        \"\"\"\n",
        "        if not isinstance(a, gergen):\n",
        "            raise ValueError(\"Ln operation requires a gergen operand.\")\n",
        "        self.a = a\n",
        "        self.operands = [a]\n",
        "        if self.contains_non_positive(self.a.listeye()):\n",
        "            raise ValueError(\"Logarithm undefined for non-positive values.\")\n",
        "\n",
        "        result = gergen(self.log_elements(a.listeye()), operation=self)\n",
        "        return result\n",
        "\n",
        "    def log_elements(self, a):\n",
        "        # Recursively apply the base 10 logarithm to each element\n",
        "        if isinstance(a, list):\n",
        "            return [self.log_elements(elem) for elem in a]\n",
        "        else:\n",
        "            return math.log(a) if a > 0 else math.log(a + 10**-4)\n",
        "\n",
        "    def contains_non_positive(self, a):\n",
        "        # Recursively check for non-positive values\n",
        "        def check_and_flatten(a):\n",
        "            if isinstance(a, list):\n",
        "                return any(check_and_flatten(elem) for elem in a)\n",
        "            else:\n",
        "                if a <= 0:\n",
        "                    a= 1\n",
        "                    return True\n",
        "                else:\n",
        "                    return False\n",
        "        # Use 'any' on a flattened generator of boolean values\n",
        "        return check_and_flatten(a)\n",
        "\n",
        "    def geri(self, grad_input):\n",
        "        '''\n",
        "        TODO: Implement the gradient computation for the Ln operation.\n",
        "        '''\n",
        "        pass\n"
      ]
    },
    {
      "cell_type": "markdown",
      "metadata": {
        "id": "ij6-IOwKOYEw"
      },
      "source": [
        "### 1.3.8 Sin, Cos, Tan"
      ]
    },
    {
      "cell_type": "code",
      "execution_count": null,
      "metadata": {
        "id": "tgY1stEKtflW"
      },
      "outputs": [],
      "source": [
        "def apply_elementwise(g, func):\n",
        "    \"\"\"\n",
        "    Applies a given function element-wise to the data in a gergen object.\n",
        "    This version is capable of handling nested lists of any depth.\n",
        "    \"\"\"\n",
        "\n",
        "    def recursive_apply(data):\n",
        "        if isinstance(data, list):\n",
        "            # Recursively apply func to each element if data is a list\n",
        "            return [recursive_apply(sublist) for sublist in data]\n",
        "        else:\n",
        "            # Apply func directly if data is a scalar (non-list)\n",
        "            return func(data)\n",
        "\n",
        "    # Use the recursive function to apply the operation to the gergen object's data\n",
        "    return recursive_apply(g.listeye())\n",
        "\n",
        "\n",
        "class Sin(Operation):\n",
        "    def ileri(self, a):\n",
        "        \"\"\"\n",
        "        Implements the forward pass for the Sin operation.\n",
        "        You can modify this function.\n",
        "        \"\"\"\n",
        "        self.operands = [a]\n",
        "        result = gergen(apply_elementwise(a, math.sin), operation=self)\n",
        "        return result\n",
        "\n",
        "    def geri(self, grad_output):\n",
        "        \"\"\"\n",
        "        TODO(Optional): Implement the gradient computation for the Sin operation.\n",
        "        \"\"\"\n",
        "        pass\n",
        "\n",
        "\n",
        "class Cos(Operation):\n",
        "    def ileri(self, a):\n",
        "        \"\"\"\n",
        "        Implements the forward pass for the Cos operation.\n",
        "        You can modify this function.\n",
        "        \"\"\"\n",
        "        self.operands = [a]\n",
        "        result = gergen(apply_elementwise(a, math.cos), operation=self)\n",
        "        return result\n",
        "\n",
        "    def geri(self, grad_output):\n",
        "        \"\"\"\n",
        "        TODO(Optional): Implement the gradient computation for the Cos operation.\n",
        "        \"\"\"\n",
        "        pass\n",
        "\n",
        "\n",
        "class Tan(Operation):\n",
        "    def ileri(self, a):\n",
        "        \"\"\"\n",
        "        Implements the forward pass for the Tan operation.\n",
        "        You can modify this function.\n",
        "        \"\"\"\n",
        "        self.operands = [a]\n",
        "        result = gergen(apply_elementwise(a, math.tan), operation=self)\n",
        "        return result\n",
        "\n",
        "    def geri(self, grad_output):\n",
        "        \"\"\"\n",
        "        TODO(Optional): Implement the gradient computation for the Tan operation.\n",
        "        \"\"\"\n",
        "        pass"
      ]
    },
    {
      "cell_type": "markdown",
      "metadata": {
        "id": "coWq1h40OhFz"
      },
      "source": [
        "### 1.3.9 Topla"
      ]
    },
    {
      "cell_type": "code",
      "execution_count": null,
      "metadata": {
        "id": "67jdQOqIbOSv"
      },
      "outputs": [],
      "source": [
        "class Topla(Operation):\n",
        "    def ileri(self, a, eksen=None):\n",
        "        \"\"\"\n",
        "        Forward pass for the Topla operation.\n",
        "        You can modify this function.\n",
        "        \"\"\"\n",
        "\n",
        "        def sum_elements(lst):\n",
        "            if isinstance(lst[0], list):\n",
        "                return [sum_elements(list(sublst)) for sublst in zip(*lst)]\n",
        "            else:\n",
        "                return sum(lst)\n",
        "\n",
        "        def sum_along_axis(data, axis):\n",
        "            if axis == 0:\n",
        "                return sum_elements(data)\n",
        "            else:\n",
        "                return [sum_along_axis(subdata, axis - 1) for subdata in data]\n",
        "\n",
        "        self.operands = [a]\n",
        "        if eksen is None:\n",
        "            result = sum(a.duzlestir().listeye())\n",
        "        elif isinstance(eksen, int):\n",
        "            if eksen < 0 or eksen >= len(a.boyut()):\n",
        "                raise ValueError(\"Axis out of bounds for gergen's dimensionality\")\n",
        "            result = sum_along_axis(a.listeye(), eksen)\n",
        "        else:\n",
        "            raise TypeError(\"Axis must be an integer or None\")\n",
        "\n",
        "        return gergen(result, operation=self)\n",
        "\n",
        "    def geri(self, grad_input):\n",
        "        \"\"\"\n",
        "        TODO(Optional): Implement the gradient computation for the Topla operation.\n",
        "        \"\"\"\n",
        "\n"
      ]
    },
    {
      "cell_type": "markdown",
      "metadata": {
        "id": "PeIxz7MXOjUo"
      },
      "source": [
        "### 1.3.10 Ortalama"
      ]
    },
    {
      "cell_type": "code",
      "execution_count": null,
      "metadata": {
        "id": "JHkgvui1bJLq"
      },
      "outputs": [],
      "source": [
        "class Ortalama(Operation):\n",
        "    def ileri(self, a, eksen=None):\n",
        "        \"\"\"\n",
        "        Forward pass for the Ortalama operation.\n",
        "        \"\"\"\n",
        "\n",
        "        def average_elements(total_sum, total_elements):\n",
        "            # Compute the average\n",
        "            if isinstance(total_sum, list):\n",
        "                # If total_sum is a list (multi-dimensional case), calculate the average for each sublist\n",
        "                return [average_elements(ts, total_elements) for ts in total_sum]\n",
        "            else:\n",
        "                # For a single number, just divide\n",
        "                return total_sum / total_elements\n",
        "        self.operands = [a]\n",
        "        sum_op = Topla()  # Instantiate the Sum operation\n",
        "\n",
        "        total_sum = sum_op.ileri(a, eksen=eksen).listeye()\n",
        "\n",
        "        if eksen is None:\n",
        "            total_elements = a.uzunluk()\n",
        "        else:\n",
        "            if eksen < 0 or eksen >= len(a.boyut()):\n",
        "                raise ValueError(\"Axis out of bounds for gergen's dimensionality\")\n",
        "            total_elements = a.boyut()[eksen]\n",
        "\n",
        "        # Compute the average\n",
        "        average_result = average_elements(total_sum, total_elements)\n",
        "\n",
        "        return gergen(average_result, operation=self)\n",
        "\n",
        "    def geri(self, grad_input):\n",
        "        \"\"\"\n",
        "        TODO: Implement the gradient computation for the Ortalama operation.\n",
        "        \"\"\"\n",
        "        pass"
      ]
    },
    {
      "cell_type": "markdown",
      "metadata": {
        "id": "XDp86vtgOnH8"
      },
      "source": [
        "### 1.3.11 IcCarpim"
      ]
    },
    {
      "cell_type": "code",
      "execution_count": null,
      "metadata": {
        "id": "744_ff3uynvW"
      },
      "outputs": [],
      "source": [
        "class IcCarpim(Operation):\n",
        "    def ileri(self, a, b):\n",
        "        self.a = a\n",
        "        self.b = b\n",
        "        self.operands = [a, b]\n",
        "        if not isinstance(a, type(b)):\n",
        "            raise ValueError(\"Both operands must be gergen objects.\")\n",
        "\n",
        "        def is_vector(v):\n",
        "            return len(v.boyut()) == 1\n",
        "\n",
        "        def is_matrix(m):\n",
        "            return len(m.boyut()) == 2\n",
        "\n",
        "        def vector_dot_product(v1, v2):\n",
        "            if len(v1) != len(v2):\n",
        "                raise ValueError(\"Vectors must have the same length for dot product.\")\n",
        "            return sum(x * y for x, y in zip(v1, v2))\n",
        "\n",
        "        def matrix_multiply(m1, m2):\n",
        "            if len(m1[0]) != len(m2):\n",
        "                raise ValueError(\n",
        "                    \"The number of columns in the first matrix must match the number of rows in the second matrix.\")\n",
        "            return [[sum(a * b for a, b in zip(row_a, col_b)) for col_b in zip(*m2)] for row_a in m1]\n",
        "\n",
        "        if len(a.boyut()) > 2 or len(b.boyut()) > 2:\n",
        "            raise ValueError(\"Operands must both be either 1-D vectors or 2-D matrices.\")\n",
        "        elif is_vector(a) and is_vector(b):\n",
        "            # Perform vector dot product\n",
        "            result = vector_dot_product(a.listeye(), b.listeye())\n",
        "        elif is_matrix(a) and is_matrix(b):\n",
        "            # Perform matrix multiplication\n",
        "            result = matrix_multiply(a.listeye(), b.listeye())\n",
        "        else:\n",
        "            raise ValueError(\"Operands must both be either 1-D vectors or 2-D matrices.\")\n",
        "\n",
        "        # Return result\n",
        "        return gergen(result, operation=self)\n",
        "\n",
        "    def geri(self, grad_input):\n",
        "        \"\"\"\n",
        "        TODO: Implement the gradient computation for the Ic_Carpim operation.\n",
        "        \"\"\"\n",
        "        return [((gergen(grad_input).duzlestir()).dis_carpim(self.operands[1].duzlestir())).listeye(),(self.operands[0].devrik().ic_carpim(gergen(grad_input))).listeye()]\n"
      ]
    },
    {
      "cell_type": "markdown",
      "metadata": {
        "id": "SZIOTmN-OxHS"
      },
      "source": [
        "### 1.3.12 DisCarpim"
      ]
    },
    {
      "cell_type": "code",
      "execution_count": null,
      "metadata": {
        "id": "nzBmeik1Q9yc"
      },
      "outputs": [],
      "source": [
        "class DisCarpim(Operation):\n",
        "    def ileri(self, a, b):\n",
        "        \"\"\"\n",
        "        Computes the outer product of two gergen objects.\n",
        "        \"\"\"\n",
        "\n",
        "        if not isinstance(a, gergen) or not isinstance(b, gergen):\n",
        "            raise ValueError(\"Both operands must be gergen objects.\")\n",
        "\n",
        "        # Ensure the veri attributes are lists representing vectors\n",
        "        if not all(isinstance(x, (int, float)) for x in a.listeye()) or not all(\n",
        "                isinstance(y, (int, float)) for y in b.listeye()):\n",
        "            raise ValueError(\"Both gergen objects must contain 1-D numerical data.\")\n",
        "\n",
        "        self.operands = [a,b]\n",
        "        # Compute the outer product\n",
        "        result = [[x * y for y in b.listeye()] for x in a.listeye()]\n",
        "\n",
        "        # Return a new gergen object with the outer product as its veri\n",
        "        return gergen(result, operation=self)\n",
        "\n",
        "    def geri(self, grad_input):\n",
        "        \"\"\"\n",
        "        TODO(Optional): Implement the gradient computation for the Dis_Carpim operation.\n",
        "        \"\"\"\n",
        "        pass"
      ]
    },
    {
      "cell_type": "markdown",
      "metadata": {
        "id": "tFDvrE8pPyTT"
      },
      "source": [
        "### 1.3.13 Gergen Class"
      ]
    },
    {
      "cell_type": "code",
      "execution_count": null,
      "metadata": {
        "id": "oJ76D4AIO2q9"
      },
      "outputs": [],
      "source": [
        "class gergen:\n",
        "\n",
        "    #TODO: You should modify this class implementation\n",
        "\n",
        "    __veri = None  # A nested list of numbers representing the data\n",
        "    D = None  # Transpose of data\n",
        "    turev = None  # Stores the derivate\n",
        "    operation = None  # Stores the operation that produced the gergen\n",
        "    __boyut = None  # Dimensions of the gergen (Shape)\n",
        "    requires_grad = True  # Flag to determine if the gradient should be computed\n",
        "\n",
        "    def __init__(self, veri=None, operation=None, requires_grad=None):\n",
        "        # The constructor for the 'gergen' class.\n",
        "        if veri is None:\n",
        "            self.__veri = []\n",
        "            self.__boyut = (0,)\n",
        "            self.D = None\n",
        "        else:\n",
        "            self.__veri = veri\n",
        "            self.__boyut = self.get_shape(veri, ())  # Assuming rectangular data\n",
        "            self.D = None\n",
        "\n",
        "        if requires_grad!=None:\n",
        "            self.requires_grad=requires_grad\n",
        "        if operation!=None:\n",
        "            self.operation=operation\n",
        "\n",
        "    def __iter__(self):\n",
        "        # The __iter__ method returns the iterator object itself.\n",
        "        # You can reset the iterator here if you want to allow multiple passes over the data.\n",
        "        pass\n",
        "\n",
        "    def __next__(self):\n",
        "        # The __next__ method should return the next value from the iterator.\n",
        "        pass\n",
        "\n",
        "    def __getitem__(self, key):\n",
        "        \"\"\"\n",
        "        Allows for indexing or slicing the gergen object's data.\n",
        "\n",
        "        Parameters:\n",
        "        key (int, slice, tuple): An integer or slice for one-dimensional indexing,\n",
        "                                    or a tuple for multi-dimensional indexing/slicing.\n",
        "\n",
        "        Returns:\n",
        "        The element or a new gergen object corresponding to the provided key.\n",
        "        \"\"\"\n",
        "\n",
        "        # Helper function to handle recursive indexing/slicing\n",
        "        def index_or_slice(data, key):\n",
        "            if isinstance(key, int) or isinstance(key, slice):\n",
        "                return data[key]\n",
        "            elif isinstance(key, tuple):\n",
        "                result = data\n",
        "                for k in key:\n",
        "                    result = index_or_slice(result, k)\n",
        "                return result\n",
        "            else:\n",
        "                raise TypeError(f\"Invalid index type: {type(key)}\")\n",
        "\n",
        "        # Perform the indexing or slicing operation\n",
        "        result = index_or_slice(self.__veri, key)\n",
        "\n",
        "        # If the result is a list, return it wrapped in a new gergen object\n",
        "        return gergen(result)\n",
        "\n",
        "    def __str__(self):\n",
        "        # Generates a string representation\n",
        "        if self.uzunluk() == 0:\n",
        "            return \"Empty Gergen\"\n",
        "        else:\n",
        "            shape_str = \"\"\n",
        "            for b in self.boyut():\n",
        "                shape_str += str(b) + \"x\"\n",
        "            if shape_str == \"\":\n",
        "                shape_str += \"0x\"\n",
        "            return shape_str[:-1] + \" boyutlu gergen:\" + \"\\n\" + self.str_helper(self.listeye(), len(self.boyut()))\n",
        "\n",
        "    def str_helper(self, data, shape, depth=0):\n",
        "        if not shape:\n",
        "            return str(data)\n",
        "        elif not isinstance(data[0], list):\n",
        "            return str(data)\n",
        "        else:\n",
        "            inner_results = []\n",
        "            for subdata in data:\n",
        "                inner_results.append(self.str_helper(subdata, shape, depth + 1))\n",
        "\n",
        "            result = \"[\" + (\"\\n\" * (shape - depth - 1)).join(r for r in inner_results) + \"]\"\n",
        "            return result\n",
        "\n",
        "    @staticmethod\n",
        "    def get_shape(lst, shape=()):\n",
        "        if not isinstance(lst, list):\n",
        "            # base case\n",
        "            return shape\n",
        "        # peek ahead and assure all lists in the next depth\n",
        "        # have the same length\n",
        "        if isinstance(lst[0], list):\n",
        "            l = len(lst[0])\n",
        "            if not all(len(item) == l for item in lst):\n",
        "                msg = 'not all lists have the same length'\n",
        "                raise ValueError(msg)\n",
        "\n",
        "        shape += (len(lst),)\n",
        "        # recurse\n",
        "        shape = gergen.get_shape(lst[0], shape)\n",
        "\n",
        "        return shape\n",
        "\n",
        "    @staticmethod\n",
        "    def custom_zeros(shape):\n",
        "        \"\"\"\n",
        "        Creates a multi-dimensional array of zeros with the specified shape.\n",
        "\n",
        "        Parameters:\n",
        "        shape (tuple): A tuple representing the dimensions of the array.\n",
        "\n",
        "        Returns:\n",
        "        A nested list (multi-dimensional array) filled with zeros.\n",
        "        \"\"\"\n",
        "        if not shape:  # If shape is empty or reaches the end of recursion\n",
        "            return 0\n",
        "        # Recursively build nested lists\n",
        "        return [gergen.custom_zeros(shape[1:]) for _ in range(shape[0])]\n",
        "\n",
        "    # HELPER\n",
        "    @staticmethod\n",
        "    def prod(iterable):\n",
        "        \"\"\"Utility function to calculate the product of elements in an iterable.\"\"\"\n",
        "        result = 1\n",
        "        for i in iterable:\n",
        "            result *= i\n",
        "        return result\n",
        "\n",
        "    def __mul__(self, other: Union['gergen', int, float]) -> 'gergen':\n",
        "        mul_operation = Mul()\n",
        "        result_gergen = mul_operation(self, other)\n",
        "        return result_gergen\n",
        "\n",
        "    def __rmul__(self, other: Union['gergen', int, float]) -> 'gergen':\n",
        "        mul_operation = Mul()\n",
        "        result_gergen = mul_operation(self, other)\n",
        "        return result_gergen\n",
        "\n",
        "    def __truediv__(self, other: Union['gergen', int, float]) -> 'gergen':\n",
        "        div_operation = TrueDiv()\n",
        "        result_gergen = div_operation(self, other)\n",
        "        return result_gergen\n",
        "\n",
        "    def __rtruediv__(self, other: Union['gergen', int, float]) -> 'gergen':\n",
        "        div_operation = TrueDiv()\n",
        "        result_gergen = div_operation(self, other)\n",
        "        return result_gergen\n",
        "\n",
        "    def __add__(self, other):\n",
        "        add_operation = Add()\n",
        "        result_gergen = add_operation(self, other)\n",
        "        return result_gergen\n",
        "\n",
        "    def __radd__(self, other):\n",
        "        add_operation = Add()\n",
        "        result_gergen = add_operation(self, other)\n",
        "        return result_gergen\n",
        "\n",
        "    def __sub__(self, other):\n",
        "        sub_operation = Sub()\n",
        "        result_gergen = sub_operation(self, other)\n",
        "        return result_gergen\n",
        "\n",
        "    def __rsub__(self, other):\n",
        "        sub_operation = Sub()\n",
        "        result_gergen = sub_operation(other, self)\n",
        "        return result_gergen\n",
        "\n",
        "    def uzunluk(self):\n",
        "        # Returns the total number of elements in the gergen\n",
        "        total = 1\n",
        "        for ele in self.__boyut:\n",
        "            total *= ele\n",
        "        return total\n",
        "\n",
        "    def boyut(self):\n",
        "        # Returns the shape of the gergen\n",
        "        return self.__boyut\n",
        "\n",
        "    def devrik(self):\n",
        "        # Returns the transpose of gergen\n",
        "        # Check if the gergen object is scalar\n",
        "        if self.uzunluk() == 1:\n",
        "            return gergen(self.__veri)\n",
        "        # Check if the gergen object represents a 1D list (vector)\n",
        "        if isinstance(self.__veri, list) and all(not isinstance(item, list) for item in self.__veri):\n",
        "            # Convert each element into a list (column vector)\n",
        "            return gergen([[item] for item in self.__veri])\n",
        "        else:\n",
        "            # Handle higher-dimensional cases (e.g., 2D matrices, 3D tensors, etc.)\n",
        "            new_boyut = tuple(reversed(self.__boyut))\n",
        "            order = list(reversed(range(len(self.__boyut))))\n",
        "            arr = self.custom_zeros(new_boyut)  # Assuming custom_zeros initializes an array with the given shape\n",
        "            paths = [0] * len(self.__boyut)\n",
        "            while paths[0] < self.__boyut[0]:\n",
        "                ref = self.listeye()\n",
        "                place = arr\n",
        "                for i in range(len(paths) - 1):\n",
        "                    ref = ref[paths[i]]\n",
        "                    place = place[paths[order[i]]]\n",
        "\n",
        "                place[paths[order[-1]]] = ref[paths[-1]]\n",
        "                paths[-1] += 1\n",
        "                for i in range(len(paths) - 1, 0, -1):\n",
        "                    if paths[i] >= self.__boyut[i]:\n",
        "                        paths[i] = 0\n",
        "                        paths[i - 1] += 1\n",
        "                    else:\n",
        "                        break\n",
        "            self.D = gergen(arr)\n",
        "            return gergen(arr)\n",
        "\n",
        "    def L1(self):\n",
        "        # Calculates and returns the L1 norm\n",
        "        flattened_data = self.duzlestir().__veri  # Assuming flatten returns a gergen object\n",
        "\n",
        "        # Calculate the L1 norm by summing the absolute values of elements in the flattened list\n",
        "        l1_norm = sum(abs(item) for item in flattened_data)\n",
        "\n",
        "        return l1_norm\n",
        "\n",
        "    def L2(self):\n",
        "        # Assuming flatten returns a gergen object and __veri holds the flattened data\n",
        "        flattened_data = self.duzlestir().__veri\n",
        "\n",
        "        # Calculate the L2 norm by summing the squares of elements in the flattened list and then taking the square root\n",
        "        l2_norm = sum(item ** 2 for item in flattened_data) ** 0.5\n",
        "\n",
        "        return l2_norm\n",
        "\n",
        "    def Lp(self, p):\n",
        "        # Calculates and returns the Lp norm, where p should be positive integer\n",
        "        if p <= 0:\n",
        "            raise ValueError(\"p must be a positive integer for Lp norm.\")\n",
        "        # Assuming flatten returns a gergen object and __veri holds the flattened data\n",
        "        flattened_data = self.duzlestir().__veri\n",
        "\n",
        "        # Calculate the Lp norm by raising elements to the power of p, summing, and then taking the p-th root\n",
        "        lp_norm = sum(abs(item) ** p for item in flattened_data) ** (1 / p)\n",
        "\n",
        "        return lp_norm\n",
        "\n",
        "    def listeye(self):\n",
        "        # Converts the gergen object into a list or a nested list, depending on its dimensions.\n",
        "        if isinstance(self.__veri, list):\n",
        "            if not self.__veri:\n",
        "                return []\n",
        "            return self.__veri.copy()\n",
        "        else:\n",
        "            return self.__veri\n",
        "\n",
        "    def duzlestir(self):\n",
        "        \"\"\"Flattens a multidimensional list (self.__veri) into a 1D list.\"\"\"\n",
        "        if not isinstance(self.__veri, list):\n",
        "            return gergen(self.__veri)\n",
        "        flattened_list = []\n",
        "        # Create a stack with the initial list\n",
        "        stack = [self.__veri]\n",
        "\n",
        "        # Process the stack\n",
        "        while stack:\n",
        "            current_item = stack.pop()\n",
        "            if isinstance(current_item, list):\n",
        "                # Extend the stack by reversing the current item list\n",
        "                # to maintain the original order in the flattened list\n",
        "                stack.extend(current_item[::-1])\n",
        "            else:\n",
        "                # If it's not a list, add it to the flattened list\n",
        "                flattened_list.append(current_item)\n",
        "\n",
        "        # Since we're appending elements to the end, but processing the stack in LIFO order,\n",
        "        # we need to reverse the flattened list to restore the original element order\n",
        "        #flattened_list.reverse()\n",
        "\n",
        "        # Create a new gergen instance with the flattened list\n",
        "        return gergen(flattened_list)\n",
        "\n",
        "    def boyutlandir(self, yeni_boyut):\n",
        "        \"\"\"Reshapes the gergen object to a new shape 'yeni_boyut', specified as a tuple.\"\"\"\n",
        "        # Flatten the data first\n",
        "        flat_data = list(self.duzlestir().__veri)\n",
        "\n",
        "        def reshape_helper(data, dims):\n",
        "            if not dims:\n",
        "                return data.pop(0)\n",
        "            return [reshape_helper(data, dims[1:]) for _ in range(dims[0])]\n",
        "\n",
        "        # Check if the new shape is compatible with the number of elements\n",
        "        if self.prod(yeni_boyut) != len(flat_data):\n",
        "            raise ValueError(\"New shape must have the same number of elements as the original.\")\n",
        "\n",
        "        # Use the helper to create the reshaped data and update the object's internal state\n",
        "        self.__veri = reshape_helper(flat_data, yeni_boyut)\n",
        "        self.__boyut = yeni_boyut\n",
        "\n",
        "    def ic_carpim(self, other):\n",
        "        ic_carpim_operation = IcCarpim()\n",
        "        result_gergen = ic_carpim_operation(self, other)\n",
        "        return result_gergen\n",
        "\n",
        "    def dis_carpim(self, other):\n",
        "        dis_carpim_operation = DisCarpim()\n",
        "        result_gergen = dis_carpim_operation(self, other)\n",
        "        return result_gergen\n",
        "\n",
        "    def us(self, n):\n",
        "        # Applies the power function to each element of the gergen object.\n",
        "        power_operation = Us()\n",
        "        result_gergen = power_operation(self, n)\n",
        "        return result_gergen\n",
        "\n",
        "    def log(self):\n",
        "        # Applies the log function to each element of the gergen object.\n",
        "        log_operation = Log10()\n",
        "        result_gergen = log_operation(self)\n",
        "        return result_gergen\n",
        "\n",
        "    def ln(self):\n",
        "        # Applies the ln function to each element of the gergen object.\n",
        "        log_operation = Ln()\n",
        "        result_gergen = log_operation(self)\n",
        "        return result_gergen\n",
        "\n",
        "    def sin(self):\n",
        "        # Applies the sin function to each element of the gergen object.\n",
        "        sin_operation = Sin()\n",
        "        result_gergen = sin_operation(self)\n",
        "        return result_gergen\n",
        "\n",
        "    def cos(self):\n",
        "        # Applies the cos function to each element of the gergen object.\n",
        "        cos_operation = Cos()\n",
        "        result_gergen = cos_operation(self)\n",
        "        return result_gergen\n",
        "\n",
        "    def tan(self):\n",
        "        # Applies the tan function to each element of the gergen object.\n",
        "        tan_operation = Tan()\n",
        "        result_gergen = tan_operation(self)\n",
        "        return result_gergen\n",
        "\n",
        "    def topla(self, eksen=None):\n",
        "        # Calculates the sum of the elements of the gergen object, optionally along a specified axis 'eksen'.\n",
        "        topla_operation = Topla()\n",
        "        result_gergen = topla_operation(self, eksen=eksen)\n",
        "        return result_gergen\n",
        "\n",
        "    def ortalama(self, eksen=None):\n",
        "        # Calculates the average of the elements of the gergen object, optionally along a specified axis 'eksen'.\n",
        "        ortalama_operation = Ortalama()\n",
        "        result = ortalama_operation(self, eksen=eksen)\n",
        "        return result\n",
        "\n",
        "    def relu(self):\n",
        "        relu_operation=ReLU()\n",
        "        result=relu_operation(self)\n",
        "        return result\n",
        "\n",
        "    def softmax(self):\n",
        "        softmax_operation=Softmax()\n",
        "        result=softmax_operation(self)\n",
        "        return result;\n",
        "\n",
        "    def turev_al(self, grad_output=1):\n",
        "        \"\"\"\n",
        "        TODO: Implement the backward pass for the gergen object\n",
        "        \"\"\"\n",
        "        if not self.requires_grad:\n",
        "            return   # No need to compute gradient if it's not required.\n",
        "\n",
        "        elif self.operation is None:\n",
        "            #raise ValueError(\"No operation associated with this gergen object for backpropagation\")\n",
        "            self.turev=grad_output;\n",
        "\n",
        "        else:\n",
        "            self.turev = self.operation.geri(grad_output)"
      ]
    },
    {
      "cell_type": "markdown",
      "metadata": {
        "id": "uQ9O1fcCrgeL"
      },
      "source": [
        "# 2 The MLP Implementation\n",
        "\n",
        "Now, you need to complete the MLP implementation. Your task is to complete the MLP implementation by following the steps outlined."
      ]
    },
    {
      "cell_type": "markdown",
      "metadata": {
        "id": "_pmKGAAcrnZ8"
      },
      "source": [
        "## 2.1 Katman Class\n",
        "\n",
        "To complete MLP implementation, we first need to implement Katman (Layer) class. Implementing the Katman class involves defining its structure and operational methods such as the necessary mathematical operations, integrating activation functions, and setting up mechanisms for learning the layer's parameters during training."
      ]
    },
    {
      "cell_type": "code",
      "execution_count": null,
      "metadata": {
        "id": "bi7tAIYrMecf"
      },
      "outputs": [],
      "source": [
        "class Katman:\n",
        "    def __init__(self, input_size, output_size, activation=None):\n",
        "        \"\"\"\n",
        "        TODO: Initialize weights and biases\n",
        "        \"\"\"\n",
        "        std = (2.0 / (input_size))**0.5\n",
        "        self.weights = rastgele_gercek((output_size, input_size), (0, std), \"gaussian\")\n",
        "        self.biases = rastgele_gercek((output_size, 1), (0, std), \"gaussian\")\n",
        "        self.activation = activation\n",
        "\n",
        "    def ileri(self, x):\n",
        "        \"\"\"\n",
        "        TODO: Implement the forward pass\n",
        "        \"\"\"\n",
        "\n",
        "        result=(self.weights).ic_carpim(x)+self.biases\n",
        "\n",
        "        if self.activation==\"relu\":\n",
        "          result=result.relu()\n",
        "\n",
        "        if self.activation==\"softmax\":\n",
        "          result=result.softmax()\n",
        "\n",
        "        return result\n",
        "\n"
      ]
    },
    {
      "cell_type": "markdown",
      "metadata": {
        "id": "TA9RkEM2SbAl"
      },
      "source": [
        "## 2.2 ReLU Operation\n",
        "\n",
        "The `ReLU` class encapsulates the Rectified Linear Unit (ReLU) activation function. Characterized by the formula $f(x) = \\max(0, x)$, the ReLU function modifies the input tensor by setting all its negative elements to zero while preserving the positive values.\n",
        "\n",
        "The implementation of the `ReLU` class needs two principal methods:\n",
        "\n",
        "1. **`ileri(self, x)`:** Termed `ileri` to denote the forward propagation phase, this method applies the ReLU function on an input tensor `x`.\n",
        "\n",
        "2. **`geri(self, grad_input)`:** Labeled `geri`, indicating the backward propagation stage, this function is tasked with calculating the gradient of the ReLU function relative to the input tensor, given a gradient input `grad_input`."
      ]
    },
    {
      "cell_type": "code",
      "execution_count": null,
      "metadata": {
        "id": "9hmUxk2snVDl"
      },
      "outputs": [],
      "source": [
        "class ReLU(Operation):\n",
        "    def ileri(self,x):\n",
        "        \"\"\"\n",
        "        TODO: ReLU activation function\n",
        "        \"\"\"\n",
        "        self.operands=[x]\n",
        "        def find_max(data):\n",
        "          if type(data)==list:\n",
        "            return [find_max(subdata) for subdata in data]\n",
        "          else:\n",
        "            if data<=0:\n",
        "              return float(0)\n",
        "            else:\n",
        "              return data\n",
        "\n",
        "        return gergen(find_max(x.listeye()), operation=self)\n",
        "\n",
        "    def geri(self, grad_input):\n",
        "        \"\"\"\n",
        "        TODO: Compute the gradient of the ReLU function\n",
        "        \"\"\"\n",
        "        def find_grad(data,grad_input_data):\n",
        "\n",
        "          if type(data)==list:\n",
        "            return [find_grad(subdata,sub_grad_input) for subdata,sub_grad_input in zip(data,grad_input_data)]\n",
        "          else:\n",
        "            if data<=0:\n",
        "              return float(0)\n",
        "            else:\n",
        "              return grad_input_data\n",
        "\n",
        "        return [find_grad((self.operands[0]).listeye(),grad_input)]\n"
      ]
    },
    {
      "cell_type": "markdown",
      "metadata": {
        "id": "7bxPgnTtTVct"
      },
      "source": [
        "## 2.3 Softmax Operation\n",
        "\n",
        "The `Softmax` class is designed to implement the Softmax activation function. The Softmax function converts the raw output scores from the model into probabilities by taking the exponential of each output and then normalizing these values by dividing by the sum of all the exponentials. This results in an output vector where each component represents the probability of the corresponding class, and the sum of all components is 1.\n",
        "\n",
        "Implementing the `Softmax` class involves defining two key methods:\n",
        "\n",
        "1. **`ileri(self, x)`:** This method, named `ileri` for the forward pass, applies the Softmax function to an input tensor `x`.\n",
        "\n",
        "2. **`geri(self, grad_input)`:** The `geri` method, indicating the backward pass, is responsible for computing the gradient of the Softmax function with respect to the input tensor, given an input gradient `grad_input`."
      ]
    },
    {
      "cell_type": "code",
      "execution_count": null,
      "metadata": {
        "id": "KxyRQS9OvUTo"
      },
      "outputs": [],
      "source": [
        "class Softmax(Operation):\n",
        "    def ileri(self,x):\n",
        "        \"\"\"\n",
        "        TODO: Softmax activation function\n",
        "        \"\"\"\n",
        "        self.operands=[x]\n",
        "        def take_e(data):\n",
        "          if type(data)==list:\n",
        "            return [take_e(subdata) for subdata in data]\n",
        "          else:\n",
        "              return (math.e)**data\n",
        "\n",
        "        e_data=gergen(take_e((self.operands[0]).listeye()))\n",
        "        n_factor=e_data.topla()\n",
        "\n",
        "\n",
        "        return gergen(e_data.__truediv__(n_factor.listeye()).listeye(), operation=self)\n",
        "\n",
        "\n",
        "    def geri(self, grad_input):\n",
        "        \"\"\"\n",
        "        TODO: Compute the gradient of the Softmax function\n",
        "        \"\"\"\n",
        "        #this is implemented together within cross entropy\n",
        "        return [grad_input]"
      ]
    },
    {
      "cell_type": "markdown",
      "metadata": {
        "id": "gFKNHLC9H2WR"
      },
      "source": [
        "## 2.4 MLP Class\n",
        "\n",
        "The `MLP` class is a template for creating our custom MLP.\n",
        "\n",
        "When setting up (`__init__`), you need to define:\n",
        "- `input_size`: The shape of input layer.\n",
        "- `hidden_size`: The shape of the hidden layer.\n",
        "- `output_size`: How many outputs you need at the end, like how many categories you're classifying.\n",
        "\n",
        "The main job of this setup is to prepare the layers with their settings and connections.\n",
        "\n",
        "The `ileri` method takes your data (`x`) and sends it through all the layers."
      ]
    },
    {
      "cell_type": "code",
      "execution_count": null,
      "metadata": {
        "id": "kDFRKfctMhKu"
      },
      "outputs": [],
      "source": [
        "class MLP:\n",
        "    def __init__(self, input_size, hidden_size, output_size):\n",
        "        \"\"\"\n",
        "        TODO: Initialize the MLP with input, hidden, and output layers\n",
        "        \"\"\"\n",
        "        self.hidden_layer = Katman(input_size, hidden_size, \"relu\")\n",
        "        self.output_layer = Katman(hidden_size, output_size, \"softmax\")\n",
        "\n",
        "    def ileri(self, x):\n",
        "        \"\"\"\n",
        "        TODO: Implement the forward pass\n",
        "        \"\"\"\n",
        "        h2=self.hidden_layer.ileri(x)\n",
        "        y_pred=self.output_layer.ileri(h2)\n",
        "\n",
        "        return y_pred\n",
        "\n"
      ]
    },
    {
      "cell_type": "code",
      "execution_count": null,
      "metadata": {
        "id": "sTR6BXBNQ90C"
      },
      "outputs": [],
      "source": [
        "class CrossEntropy():\n",
        "\n",
        "\n",
        "    def ileri(self, y_pred, y_true):\n",
        "        \"\"\"\n",
        "        TODO: Implement the cross-entropy loss function\n",
        "        y_pred : Predicted probabilities for each class in each sample\n",
        "        y_true : True labels.\n",
        "        Remember, in a multi-class classification context, y_true is typically represented in a one-hot encoded format.\n",
        "        \"\"\"\n",
        "        self.operands=[y_pred,y_true]\n",
        "        return gergen(((y_true*y_pred.ln()).ortalama()*-1).listeye(), operation=self)\n",
        "\n",
        "    def geri(self, grad_input):\n",
        "\n",
        "        #this is the gradient calculation for cross entropy and softmax.\n",
        "        return [((self.operands[0]-self.operands[1])*grad_input).listeye()]\n",
        "\n",
        "\n",
        "def backward_pass(current_gergen,grad_input,gradients=[]):\n",
        "\n",
        "  # this function finds the gradients recursively and updates the turev parameter of the operands.\n",
        "\n",
        "    if(current_gergen.operation!=None):\n",
        "      #print(current_gergen.operation)\n",
        "      current_gergen.turev_al(grad_input)\n",
        "      grads=current_gergen.turev\n",
        "      for i,grad_input in zip(current_gergen.operation.operands,grads):\n",
        "        backward_pass(i,grad_input,gradients)\n",
        "      return gradients\n",
        "\n",
        "    else:\n",
        "      current_gergen.turev_al(grad_input)\n",
        "      gradients.append(current_gergen.turev)\n",
        "\n",
        "#gradients=backward_pass(result,1,[])\n",
        "#print(len(gradients))\n",
        "#for gradient in gradients:\n",
        "  #print(gergen(gradient))\n",
        "\n",
        "#cekirdek(16)\n",
        "#mlp=MLP(10,5,3)\n",
        "#cross_entropy=CrossEntropy()\n",
        "#x=rastgele_gercek((10,1))\n",
        "#y_true=gergen([[0],[0],[1]])\n",
        "#y_pred=mlp.ileri(x)\n",
        "#loss=cross_entropy.ileri(y_pred,y_true)\n",
        "#gradients=backward_pass(loss,1,[])\n",
        "#for i in range(len(gradients)):\n",
        "  #print(gergen(gradients[i]))"
      ]
    },
    {
      "cell_type": "markdown",
      "metadata": {
        "id": "pBF0KFquVFAd"
      },
      "source": [
        "## 2.5 Cross-Entropy Loss\n",
        "\n"
      ]
    },
    {
      "cell_type": "markdown",
      "metadata": {
        "id": "-Zk_5AQtW-Ma"
      },
      "source": [
        "## 2.6 Implementing the training pipeline with `egit()`\n",
        "\n",
        "The `egit()` function adjusts the model's weights and biases to decrease errors and improve predictions through epochs. Here's a simplified overview of its components and steps:\n",
        "\n",
        "### Main Components:\n",
        "\n",
        "- **`mlp`**: The MLP model that we implemented.\n",
        "- **`inputs`**: The data fed into the model.\n",
        "- **`targets`**: The labels for each input\n",
        "- **`epochs`**: The number of complete passes through the training dataset.\n",
        "- **`learning_rate`**: How much the model's weights are adjusted during training to minimize error.\n",
        "\n",
        "You need to implement these training steps:\n",
        "\n",
        "1. **Forward Pass**\n",
        "\n",
        "2. **Calculate Loss**\n",
        "\n",
        "3. **Backward Pass**\n",
        "\n",
        "4. **Update Parameters**\n",
        "\n",
        "5. **Reset Gradients**\n",
        "\n",
        "6. **Loss Reporting**\n"
      ]
    },
    {
      "cell_type": "code",
      "execution_count": null,
      "metadata": {
        "id": "svEUrEmMMxLO"
      },
      "outputs": [],
      "source": [
        "def egit(mlp, inputs, targets, epochs, learning_rate):\n",
        "    \"\"\"\n",
        "    TODO: Implement the training loop\n",
        "    \"\"\"\n",
        "    #mlp=MLP()\n",
        "    loss_history=[]\n",
        "    cross_entropy=CrossEntropy()\n",
        "    for epoch in range(epochs):\n",
        "      epoch_loss=0\n",
        "      for i in range(len(inputs)):\n",
        "        '''\n",
        "        TODO: Implement training pipeline for each example\n",
        "        '''\n",
        "\n",
        "        # Forward pass - wtih mlp.ileri\n",
        "        x=(gergen(inputs[i]).devrik())/255\n",
        "        x.turev=None\n",
        "        x.operation=None\n",
        "        y_pred=mlp.ileri(x)\n",
        "\n",
        "        # Calculate Loss - with cross_entropy\n",
        "        y_true=gergen(list(targets[i])).devrik()\n",
        "        loss = cross_entropy.ileri(y_pred, y_true)\n",
        "\n",
        "        # Backward pass - Compute gradients for example\n",
        "        backward_pass(loss, 1, [])\n",
        "\n",
        "        # Update parameters\n",
        "        mlp.hidden_layer.weights-=learning_rate*gergen(mlp.hidden_layer.weights.turev)\n",
        "        mlp.hidden_layer.biases-=learning_rate*gergen(mlp.hidden_layer.biases.turev)\n",
        "        mlp.output_layer.weights-=learning_rate*gergen(mlp.output_layer.weights.turev)\n",
        "        mlp.output_layer.biases-=learning_rate*gergen(mlp.output_layer.biases.turev)\n",
        "\n",
        "        # Reset gradients\n",
        "        mlp.hidden_layer.weights.turev=None\n",
        "        mlp.hidden_layer.biases.turev=None\n",
        "        mlp.hidden_layer.weights.operation=None\n",
        "        mlp.hidden_layer.biases.operation=None\n",
        "        mlp.output_layer.weights.turev=None\n",
        "        mlp.output_layer.biases.turev=None\n",
        "        mlp.output_layer.weights.operation=None\n",
        "        mlp.output_layer.biases.operation=None\n",
        "\n",
        "        epoch_loss+=loss.listeye()\n",
        "        # Print epoch loss here if desired\n",
        "      avg_loss=epoch_loss/len(inputs)\n",
        "      print(\"Epoch: {}, Loss: {}\".format(epoch, avg_loss))\n",
        "      loss_history.append(avg_loss)\n",
        "\n",
        "\n",
        "    return mlp,loss_history"
      ]
    },
    {
      "cell_type": "markdown",
      "metadata": {
        "id": "fYj01h9FYRSR"
      },
      "source": [
        "## 2.7 Implementing the testing pipeline with `test()`\n",
        "\n",
        "The `test()` measures the trained model's performance in test data.\n",
        "\n",
        "### Main Components:\n",
        "\n",
        "- **`mlp`**: The model that we trained with egit().\n",
        "- **`inputs`**: Testing data.\n",
        "- **`targets`**: Labels for testing data.\n"
      ]
    },
    {
      "cell_type": "code",
      "execution_count": null,
      "metadata": {
        "id": "LzW05UXlVP2X"
      },
      "outputs": [],
      "source": [
        "def test(mlp, inputs, targets):\n",
        "    \"\"\"\n",
        "    TODO: Implement the testing pipeline\n",
        "    \"\"\"\n",
        "    test_cross_entropy=CrossEntropy()\n",
        "    total_test_loss=0;\n",
        "    for i in range(len(inputs)):\n",
        "        '''\n",
        "        TODO: Implement training pipeline for each example\n",
        "        '''\n",
        "\n",
        "        # Forward pass - wtih mlp.ileri\n",
        "        test_x=(gergen(inputs[i]).devrik())/255\n",
        "        test_y_pred=mlp.ileri(test_x)\n",
        "\n",
        "        # Calculate Loss - with cross_entropy\n",
        "        test_y_true=gergen(list(targets[i])).devrik()\n",
        "        total_test_loss+=test_cross_entropy.ileri(test_y_pred, test_y_true).listeye()\n",
        "\n",
        "    test_loss=total_test_loss/len(inputs)\n",
        "    print(\"Test Loss: {}\".format(test_loss))\n",
        "    return test_loss"
      ]
    },
    {
      "cell_type": "markdown",
      "metadata": {
        "id": "b8oQAeqgY8y9"
      },
      "source": [
        "## 2.8 Data Handling Process"
      ]
    },
    {
      "cell_type": "code",
      "execution_count": null,
      "metadata": {
        "id": "he4K9vfbKp4f"
      },
      "outputs": [],
      "source": [
        "import pandas as pd\n",
        "import io\n",
        "from sklearn.preprocessing import LabelBinarizer\n",
        "def data_preprocessing(data_file):\n",
        "    \"\"\"\n",
        "    TODO:    DATA PREPROCESSING\n",
        "    \"\"\"\n",
        "    # Load the data\n",
        "    df = pd.read_csv(data_file)\n",
        "\n",
        "    # Get the first column as labels (You can use one-hot encoding if needed (You can use sklearn or pandas for this))\n",
        "    targets=df.iloc[:,0]\n",
        "    encoder = LabelBinarizer()\n",
        "    labels = encoder.fit_transform(targets)\n",
        "\n",
        "    # Get the remaining columns as data\n",
        "    features = df.iloc[:, 1:].values.tolist()\n",
        "\n",
        "    # Return the data and labels\n",
        "    return features, labels"
      ]
    },
    {
      "cell_type": "markdown",
      "metadata": {
        "id": "7-4U07WQZNSE"
      },
      "source": [
        "## 2.9.1 Training our custom MLP"
      ]
    },
    {
      "cell_type": "markdown",
      "source": [
        "In this part, the model is trained with hidden size 20 and learning rate 0.001 for 5 epochs. The dataset size used for training is 5000. It can be seen that train loss is decreasing with each epoch, which means our backpropagation and forward pass implementation is successful."
      ],
      "metadata": {
        "id": "g3tqMaC3bmzq"
      }
    },
    {
      "cell_type": "code",
      "execution_count": null,
      "metadata": {
        "colab": {
          "base_uri": "https://localhost:8080/"
        },
        "id": "rDujgqmzZH7u",
        "outputId": "c8b396e0-bb8e-40f6-bbe9-fa4289615030"
      },
      "outputs": [
        {
          "output_type": "stream",
          "name": "stdout",
          "text": [
            "Epoch: 0, Loss: 0.13371569661405214\n",
            "Epoch: 1, Loss: 0.06391138115155422\n",
            "Epoch: 2, Loss: 0.048328758702090996\n",
            "Epoch: 3, Loss: 0.04139478296201234\n",
            "Epoch: 4, Loss: 0.03733637254015322\n"
          ]
        }
      ],
      "source": [
        "'''\n",
        "TODO: Implement the training pipeline.\n",
        "'''\n",
        "\n",
        "# Load the data\n",
        "train_data_path = \"sample_data/mnist_train_small.csv\"\n",
        "data, labels = data_preprocessing(train_data_path)\n",
        "\n",
        "# Initialize the MLP with input, hidden, and output layers\n",
        "input_size = 28*28\n",
        "hidden_size = 20\n",
        "output_size = 10\n",
        "mlp = MLP(input_size=input_size, hidden_size=hidden_size, output_size=output_size)\n",
        "# Train the MLP using your preferred training loop\n",
        "epochs = 5\n",
        "learning_rate = 0.001\n",
        "mlp,loss_history = egit(mlp, data[:5000], labels[:5000], epochs, learning_rate)"
      ]
    },
    {
      "cell_type": "markdown",
      "metadata": {
        "id": "OayGKYzmebNb"
      },
      "source": [
        "\n",
        "## 2.9.2 Testing our custom MLP"
      ]
    },
    {
      "cell_type": "code",
      "execution_count": null,
      "metadata": {
        "colab": {
          "base_uri": "https://localhost:8080/"
        },
        "id": "dMaD8oFEeZDc",
        "outputId": "e16057bf-b553-40a7-bd11-c5c55f49551d"
      },
      "outputs": [
        {
          "output_type": "stream",
          "name": "stdout",
          "text": [
            "Test Loss: 0.03715726675803986\n"
          ]
        }
      ],
      "source": [
        "test_data_path = \"sample_data/mnist_test.csv\"\n",
        "test_data, test_labels = data_preprocessing(test_data_path)\n",
        "test_loss = test(mlp, test_data, test_labels)"
      ]
    },
    {
      "cell_type": "markdown",
      "metadata": {
        "id": "Fy96ZJ-fepqb"
      },
      "source": []
    },
    {
      "cell_type": "markdown",
      "metadata": {
        "id": "iULhajyWtIy6"
      },
      "source": [
        "## 2.10 The Loss Curve\n",
        "We see a smoothly decreasing curve over iterations/epochs for training loss.\n"
      ]
    },
    {
      "cell_type": "code",
      "execution_count": null,
      "metadata": {
        "colab": {
          "base_uri": "https://localhost:8080/",
          "height": 487
        },
        "id": "bsNPqhALtidx",
        "outputId": "6a18cdd8-35e7-459e-d134-5c17f812e932"
      },
      "outputs": [
        {
          "output_type": "display_data",
          "data": {
            "text/plain": [
              "<Figure size 1000x500 with 1 Axes>"
            ],
            "image/png": "[encoded data removed]"
          },
          "metadata": {}
        }
      ],
      "source": [
        "'''\n",
        "TODO: Plot the Loss Curve Using loss_history\n",
        "'''\n",
        "\n",
        "epochs = list(range(1, len(loss_history) + 1))\n",
        "plt.figure(figsize=(10, 5))\n",
        "plt.plot(epochs, loss_history, label='Training Loss', marker='o')\n",
        "\n",
        "plt.title('Training Loss Over Epochs')\n",
        "plt.xlabel('Epochs')\n",
        "plt.ylabel('Loss')\n",
        "plt.legend()\n",
        "\n",
        "# Displaying the plot\n",
        "plt.grid(True)\n",
        "plt.xticks(epochs, labels=epochs)\n",
        "plt.show()"
      ]
    },
    {
      "cell_type": "markdown",
      "metadata": {
        "id": "pn0_ApnFpR-b"
      },
      "source": [
        "## 2.11 Find the Best Hyperparameters\n",
        "\n",
        "To tune the hyperparameters and find the best model, we train with different hyperparameter combinations using grid search. Since this is very time consuming, only a small portion of the dataset is used during training. After the best combination is found, the model will be trained again for the dataset with 10000 instances."
      ]
    },
    {
      "cell_type": "code",
      "execution_count": null,
      "metadata": {
        "colab": {
          "base_uri": "https://localhost:8080/"
        },
        "id": "aXArza5apaTI",
        "outputId": "fb72fac6-850e-461c-f2c8-75501dc172a5"
      },
      "outputs": [
        {
          "output_type": "stream",
          "name": "stdout",
          "text": [
            "learning rate=0.01 and hidden layer size=5 provided train_loss=0.048230 and test_loss=0.087\n",
            "learning rate=0.01 and hidden layer size=10 provided train_loss=0.010633 and test_loss=0.051\n",
            "learning rate=0.01 and hidden layer size=30 provided train_loss=0.004345 and test_loss=0.047\n",
            "learning rate=0.001 and hidden layer size=5 provided train_loss=0.092305 and test_loss=0.097\n",
            "learning rate=0.001 and hidden layer size=10 provided train_loss=0.053304 and test_loss=0.060\n",
            "learning rate=0.001 and hidden layer size=30 provided train_loss=0.048617 and test_loss=0.055\n",
            "learning rate=0.0001 and hidden layer size=5 provided train_loss=0.223106 and test_loss=0.222\n",
            "learning rate=0.0001 and hidden layer size=10 provided train_loss=0.188470 and test_loss=0.190\n",
            "learning rate=0.0001 and hidden layer size=30 provided train_loss=0.169206 and test_loss=0.165\n",
            "learning rate=1e-05 and hidden layer size=5 provided train_loss=0.236247 and test_loss=0.235\n",
            "learning rate=1e-05 and hidden layer size=10 provided train_loss=0.225261 and test_loss=0.225\n",
            "learning rate=1e-05 and hidden layer size=30 provided train_loss=0.228725 and test_loss=0.229\n",
            "\n",
            "Lowest test loss achieved: 0.0467427933702607 with params hl=30 and lr=0.01\n"
          ]
        }
      ],
      "source": [
        "learning_rates = [0.01, 0.001, 0.0001,0.00001]\n",
        "hidden_layer_sizes = [5,10,30]\n",
        "\n",
        "# results is dictionary mapping tuples of the form\n",
        "# (learning_rate, hidden_layer_size) to tuples of the form\n",
        "# (training_loss, test_loss).\n",
        "results = {}\n",
        "best_loss = 10   # The lowest test loss that we have seen so far.\n",
        "best_model = None # The MLP object that achieved the lowest test loss.\n",
        "best_lr = None  # The learning rate for the best model\n",
        "best_hl = None  # The hidden layer size for the best model\n",
        "\n",
        "for lr in learning_rates:\n",
        "\n",
        "  learning_rate = lr\n",
        "\n",
        "  for hl in hidden_layer_sizes:\n",
        "\n",
        "    ## @TODO: Create a new MLP instance\n",
        "    input_size = 28*28\n",
        "    hidden_size = hl\n",
        "    output_size = 10\n",
        "    epochs = 10\n",
        "    mlp_tuning = MLP(input_size=input_size, hidden_size=hidden_size, output_size=output_size)\n",
        "\n",
        "    ## @TODO: Create a new loss instance with cross-entropy\n",
        "    ## -> in my implementation, cross entropies are created inside the egit and test functions\n",
        "\n",
        "    ## @TODO: Train with the training set with current lr and hl for 10 epochs\n",
        "    mlp_tuning,loss_history_tuning = egit(mlp_tuning, data[:1000], labels[:1000], epochs, learning_rate)\n",
        "\n",
        "    # @TODO: Predict values for test set and calculate test loss\n",
        "    train_loss_tuning=loss_history_tuning[-1]\n",
        "    test_loss_tuning=test(mlp_tuning, test_data, test_labels)\n",
        "\n",
        "    print(f\"learning rate={lr} and hidden layer size={hl} provided train_loss={train_loss_tuning:.6f} and test_loss={test_loss_tuning:.3f}\")\n",
        "\n",
        "    # Save the results\n",
        "    results[(lr,hl)] = (train_loss_tuning, test_loss_tuning)\n",
        "    if test_loss_tuning < best_loss:\n",
        "        best_lr = lr\n",
        "        best_hl = hl\n",
        "        best_loss = test_loss_tuning\n",
        "        best_model = mlp_tuning\n",
        "\n",
        "print(f'\\nLowest test loss achieved: {best_loss} with params hl={best_hl} and lr={best_lr}')"
      ]
    },
    {
      "cell_type": "markdown",
      "source": [
        "According to the results, the best model that has the lowest test loss was trained with the hidden size 30 and learning rate 0.01. However, since we have used only 1000 inputs, which means 1000 weight and bias updates with batch size 1, this result may not comply with the results for dataset with 10000 instances. As we are increasing the input size, we need to compensate for that by changing the learning rate. To keep the number of weight updates the same, for 10000 instances, it is logical to decrease the learning rate to 0.001. Hence, 0.001 learning rate with 30 hidden size will be used to train the model again."
      ],
      "metadata": {
        "id": "-3MxedZ5c7qj"
      }
    },
    {
      "cell_type": "code",
      "source": [
        "input_size = 28*28\n",
        "hidden_size = 30\n",
        "output_size = 10\n",
        "epochs = 10\n",
        "learning_rate=0.001\n",
        "mlp_best = MLP(input_size=input_size, hidden_size=hidden_size, output_size=output_size)\n",
        "\n",
        "train_data_path = \"sample_data/mnist_train_small.csv\"\n",
        "data, labels = data_preprocessing(train_data_path)\n",
        "\n",
        "mlp_best,loss_history_best = egit(mlp_best, data[:10000], labels[:10000], epochs, learning_rate)"
      ],
      "metadata": {
        "id": "3wSVbMnQmapy"
      },
      "execution_count": null,
      "outputs": []
    },
    {
      "cell_type": "code",
      "source": [
        "test_data_path=\"sample_data/mnist_test.csv\"\n",
        "test_data, test_labels = data_preprocessing(test_data_path)\n",
        "test_loss_tuning=test(mlp_best, test_data, test_labels)\n"
      ],
      "metadata": {
        "colab": {
          "base_uri": "https://localhost:8080/"
        },
        "id": "rueYpupxq6id",
        "outputId": "87475ece-f60b-4db7-dc6a-16d1c0f29918"
      },
      "execution_count": null,
      "outputs": [
        {
          "output_type": "stream",
          "name": "stdout",
          "text": [
            "Test Loss: 0.026699542709901485\n"
          ]
        }
      ]
    },
    {
      "cell_type": "markdown",
      "metadata": {
        "id": "a-bUqdLUt21f"
      },
      "source": [
        "## 2.12 Plot the Loss Curve of the Best Model\n",
        "\n",
        "Let us analyze some aspects of the best model. To keep things short, let us just plot the loss history."
      ]
    },
    {
      "cell_type": "code",
      "execution_count": null,
      "metadata": {
        "id": "hRq1YsiruCDL",
        "colab": {
          "base_uri": "https://localhost:8080/",
          "height": 487
        },
        "outputId": "960957b8-0973-459d-96c4-51cafd858b1a"
      },
      "outputs": [
        {
          "output_type": "display_data",
          "data": {
            "text/plain": [
              "<Figure size 1000x500 with 1 Axes>"
            ],
            "image/png": "[encoded data removed]"
          },
          "metadata": {}
        }
      ],
      "source": [
        "'''\n",
        "TODO: Plot the Loss Curve for the best model using loss_history\n",
        "'''\n",
        "\n",
        "epochs = list(range(1, len(loss_history_best) + 1))\n",
        "plt.figure(figsize=(10, 5))\n",
        "plt.plot(epochs, loss_history_best, label='Training Loss', marker='o')\n",
        "\n",
        "plt.title('Training Loss Over Epochs')\n",
        "plt.xlabel('Epochs')\n",
        "plt.ylabel('Loss')\n",
        "plt.legend()\n",
        "\n",
        "# Displaying the plot\n",
        "plt.grid(True)\n",
        "plt.xticks(epochs, labels=epochs)\n",
        "plt.show()"
      ]
    },
    {
      "cell_type": "markdown",
      "metadata": {
        "id": "oDGgmS7Zrp48"
      },
      "source": [
        "# 3 Implementation in PyTorch\n",
        "\n",
        "Now, you need to implement the same MLP structure using PyTorch library."
      ]
    },
    {
      "cell_type": "markdown",
      "metadata": {
        "id": "b6H_WRy2Z_7z"
      },
      "source": [
        "## 3.1 MLP_torch class"
      ]
    },
    {
      "cell_type": "code",
      "execution_count": null,
      "metadata": {
        "id": "ZMGmeH_kl8xT"
      },
      "outputs": [],
      "source": [
        "'''\n",
        "TODO: PyTorch implementation\n",
        "'''\n",
        "\n",
        "import torch\n",
        "import torch.nn as nn\n",
        "import torch.nn.init as init\n",
        "\n",
        "# Define the MLP architecture\n",
        "class MLP_torch(nn.Module):\n",
        "    \"\"\"\n",
        "    TODO: Implement the MLP architecture\n",
        "    \"\"\"\n",
        "    def __init__(self, input_size, hidden_size, output_size):\n",
        "      super(MLP_torch, self).__init__()\n",
        "      layers = []\n",
        "      self.hidden_layer=nn.Linear(input_size, hidden_size)\n",
        "      self.activation1=nn.ReLU()\n",
        "      self.output_layer=nn.Linear(hidden_size, output_size)\n",
        "\n",
        "      init.kaiming_normal_(self.hidden_layer.weight)\n",
        "      init.kaiming_normal_(self.output_layer.weight)\n",
        "\n",
        "    def forward(self,x):\n",
        "\n",
        "      x=self.activation1(self.hidden_layer(x))\n",
        "      x=self.output_layer(x)\n",
        "\n",
        "      return x"
      ]
    },
    {
      "cell_type": "markdown",
      "metadata": {
        "id": "ffTadGRvaEGr"
      },
      "source": [
        "##3.2 Data Preprocessing"
      ]
    },
    {
      "cell_type": "code",
      "execution_count": null,
      "metadata": {
        "id": "rlFwrpZqMr5g"
      },
      "outputs": [],
      "source": [
        "'''\n",
        "TODO: Handle the data and labels for PyTorch\n",
        "'''\n",
        "import pandas as pd\n",
        "import io\n",
        "from sklearn.preprocessing import LabelEncoder\n",
        "def data_preprocessing_torch(data_file):\n",
        "\n",
        "    df = pd.read_csv(data_file)\n",
        "\n",
        "    # Get the first column as labels\n",
        "    targets = df.iloc[:, 0]\n",
        "    # Convert categorical labels to class indices\n",
        "    encoder = LabelEncoder()\n",
        "    labels = encoder.fit_transform(targets)\n",
        "\n",
        "    # Convert labels to a tensor of type 'long' for use with CrossEntropyLoss\n",
        "    labels_tensor = torch.tensor(labels, dtype=torch.long)\n",
        "\n",
        "    # Get the remaining columns as features\n",
        "    features = df.iloc[:, 1:].values\n",
        "    features_tensor = torch.tensor(features, dtype=torch.float32)\n",
        "\n",
        "\n",
        "    return features_tensor, labels_tensor"
      ]
    },
    {
      "cell_type": "markdown",
      "metadata": {
        "id": "P-jc1EsWaG33"
      },
      "source": [
        "## 3.3 Training Pipeline"
      ]
    },
    {
      "cell_type": "code",
      "execution_count": null,
      "metadata": {
        "id": "k7-fJsSwmmQm"
      },
      "outputs": [],
      "source": [
        "'''\n",
        "TODO: Implement the training pipeline using PyTorch\n",
        "'''\n",
        "\n",
        "import torch.optim as optim\n",
        "\n",
        "def train_torch(mlp, inputs, targets, epochs, learning_rate):\n",
        "\n",
        "    criterion = nn.CrossEntropyLoss()\n",
        "    optimizer = optim.SGD(mlp.parameters(), lr=learning_rate)\n",
        "\n",
        "    for epoch in range(epochs):\n",
        "\n",
        "        epoch_loss = 0\n",
        "        for i in range(len(inputs)):\n",
        "\n",
        "          optimizer.zero_grad()\n",
        "          output = mlp(inputs[i]/255)\n",
        "          loss = criterion(output, targets[i])\n",
        "          loss.backward()\n",
        "          optimizer.step()\n",
        "          epoch_loss+=loss.item()\n",
        "\n",
        "        avg_loss=epoch_loss/len(inputs)\n",
        "        print(f'EPOCH: {epoch}, Loss: {avg_loss}')\n",
        "\n",
        "    return mlp"
      ]
    },
    {
      "cell_type": "markdown",
      "metadata": {
        "id": "JBFAMdOxaLwx"
      },
      "source": [
        "##3.4 Testing Pipeline"
      ]
    },
    {
      "cell_type": "code",
      "execution_count": null,
      "metadata": {
        "id": "5YxTvzVPWx0i"
      },
      "outputs": [],
      "source": [
        "'''\n",
        "TODO: Implement the testing pipeline using PyTorch\n",
        "'''\n",
        "\n",
        "import torch.optim as optim\n",
        "\n",
        "def test_torch(mlp, inputs, targets):\n",
        "\n",
        "  criterion = nn.CrossEntropyLoss()\n",
        "  avg_loss=0;\n",
        "  mlp.eval()\n",
        "  with torch.no_grad():\n",
        "    for i in range(len(inputs)):\n",
        "\n",
        "      output = mlp(inputs[i]/255)\n",
        "      loss = criterion(output, targets[i])\n",
        "      avg_loss+=loss.item()\n",
        "\n",
        "\n",
        "  avg_loss=avg_loss/len(inputs)\n",
        "  print(f'Loss: {avg_loss}')"
      ]
    },
    {
      "cell_type": "markdown",
      "metadata": {
        "id": "ZPfHRCo-aOGv"
      },
      "source": [
        "## 3.5 Main code for PyTorch implementation"
      ]
    },
    {
      "cell_type": "code",
      "execution_count": null,
      "metadata": {
        "id": "lfz9GMLhMr5g",
        "colab": {
          "base_uri": "https://localhost:8080/"
        },
        "outputId": "727e18dd-ee05-4a7f-cfce-6e60e0c86085"
      },
      "outputs": [
        {
          "output_type": "stream",
          "name": "stdout",
          "text": [
            "EPOCH: 0, Loss: 0.7096645556522464\n",
            "EPOCH: 1, Loss: 0.35397986461511255\n",
            "EPOCH: 2, Loss: 0.30697486902053245\n",
            "EPOCH: 3, Loss: 0.28244584522137994\n",
            "EPOCH: 4, Loss: 0.26476932541904674\n",
            "EPOCH: 5, Loss: 0.2505720671995851\n",
            "EPOCH: 6, Loss: 0.23808648053613818\n",
            "EPOCH: 7, Loss: 0.22703185408682858\n",
            "EPOCH: 8, Loss: 0.2170734761426808\n",
            "EPOCH: 9, Loss: 0.20770725461712772\n",
            "EPOCH: 10, Loss: 0.19921217203537472\n",
            "EPOCH: 11, Loss: 0.19166301387691645\n",
            "EPOCH: 12, Loss: 0.18474716354922865\n",
            "EPOCH: 13, Loss: 0.17815763195690798\n",
            "EPOCH: 14, Loss: 0.17208544556984853\n",
            "EPOCH: 15, Loss: 0.16648423110263424\n",
            "EPOCH: 16, Loss: 0.16115680758498505\n",
            "EPOCH: 17, Loss: 0.15619105704254818\n",
            "EPOCH: 18, Loss: 0.1514777557990294\n",
            "EPOCH: 19, Loss: 0.1469672670570793\n",
            "Loss: 0.20133381396042077\n"
          ]
        }
      ],
      "source": [
        "'''\n",
        "TODO: Train and test the PyTorch model\n",
        "'''\n",
        "\n",
        "# Load the data\n",
        "data_torch, labels_torch = data_preprocessing_torch(\"sample_data/mnist_train_small.csv\")\n",
        "test_data, test_labels = data_preprocessing_torch(\"sample_data/mnist_test.csv\")\n",
        "# Initialize the MLP with input, hidden, and output layers\n",
        "input_size = 28*28\n",
        "hidden_size = 20\n",
        "output_size = 10\n",
        "mlp_torch = MLP_torch(input_size, hidden_size, output_size)\n",
        "\n",
        "# Train the MLP using PyTorch\n",
        "\n",
        "epochs_torch = 20\n",
        "learning_rate_torch = 0.001\n",
        "\n",
        "mlp_torch = train_torch(mlp_torch, data_torch, labels_torch, epochs_torch, learning_rate_torch)\n",
        "test_torch(mlp_torch,test_data, test_labels)"
      ]
    }
  ],
  "metadata": {
    "colab": {
      "collapsed_sections": [
        "Zaw1gxIGOVT9",
        "ij6-IOwKOYEw",
        "coWq1h40OhFz",
        "PeIxz7MXOjUo",
        "SZIOTmN-OxHS"
      ],
      "provenance": [],
      "toc_visible": true
    },
    "kernelspec": {
      "display_name": "Python 3",
      "name": "python3"
    },
    "language_info": {
      "name": "python"
    }
  },
  "nbformat": 4,
  "nbformat_minor": 0
}